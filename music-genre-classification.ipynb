{
 "cells": [
  {
   "cell_type": "markdown",
   "metadata": {},
   "source": [
    "# Music Genre Classification\n",
    "In this notebook I tried to learn the basic concepts of neural networks and use it to classify the music files in dataset. Majorly this notebook can be divided into 3 parts:\n",
    "\n",
    "   1) Using ANN \n",
    "\n",
    "   2) Tackling overfitting with ANN\n",
    "\n",
    "   3) Using CNN\n",
    "\n",
    "\n",
    "Also to read the dataset I have used librosa library which only read files <1Mb and one file is greater than the size giving error due to which I have ignored it. The dataset contains the following genres, the keys being the prediction targets\n",
    "    \n",
    "    0: \"disco\",\n",
    "    1: \"metal\",\n",
    "    2: \"reggae\",\n",
    "    3: \"blues\",\n",
    "    4: \"rock\",\n",
    "    5: \"classical\",\n",
    "    6: \"jazz\",\n",
    "    7: \"hiphop\",\n",
    "    8: \"country\",\n",
    "    9: \"pop\"\n"
   ]
  },
  {
   "cell_type": "code",
   "execution_count": 2,
   "metadata": {
    "_cell_guid": "01a50213-fe5d-431b-9ade-28c438b3bceb",
    "_uuid": "f32a1031-9332-42b6-8335-dee2b86310a3",
    "jupyter": {
     "outputs_hidden": false
    }
   },
   "outputs": [],
   "source": [
    "import os\n",
    "import librosa\n",
    "import math\n",
    "import json \n",
    "import matplotlib.pyplot as plt\n",
    "import numpy as np"
   ]
  },
  {
   "cell_type": "code",
   "execution_count": 14,
   "metadata": {
    "_cell_guid": "e1ba8988-65f9-4697-a731-e71b25dd171b",
    "_uuid": "d401d5fb-ea22-4562-bc1b-e882f59016ce",
    "jupyter": {
     "outputs_hidden": false
    }
   },
   "outputs": [],
   "source": [
    "dataset_path = \"/Users/christophermorgan/Desktop/Data\"\n",
    "json_path = \"data.json\"\n",
    "SAMPLE_RATE = 22050\n",
    "DURATION = 30\n",
    "SAMPLES_PER_TRACK = SAMPLE_RATE * DURATION"
   ]
  },
  {
   "cell_type": "code",
   "execution_count": 15,
   "metadata": {
    "_cell_guid": "f0f0a6db-b7e9-468f-890f-36312fe994e7",
    "_uuid": "c44ee71f-62e4-4100-8e2b-d2a84b01cf8e",
    "jupyter": {
     "outputs_hidden": false
    }
   },
   "outputs": [],
   "source": [
    "def save_mfcc(dataset_path, json_path, n_mfcc=13, n_fft=2048,\n",
    "             hop_length=512, num_segments=5):\n",
    "    # Data storage dictionary\n",
    "    data = {\n",
    "        \"mapping\": [],\n",
    "        \"mfcc\": [],\n",
    "        \"labels\": [],\n",
    "    }\n",
    "    samples_ps = int(SAMPLES_PER_TRACK/num_segments) # ps = per segment\n",
    "    expected_vects_ps = math.ceil(samples_ps/hop_length)\n",
    "    \n",
    "    # loop through all the genres\n",
    "    for i, (dirpath, dirnames, filenames) in enumerate(os.walk(dataset_path)):\n",
    "        # ensuring not at root\n",
    "        if dirpath is not dataset_path:\n",
    "            # save the semantic label\n",
    "            dirpath_comp = dirpath.split(\"/\")\n",
    "            semantic_label = dirpath_comp[-1]\n",
    "            data[\"mapping\"].append(semantic_label)\n",
    "            print(f\"Processing: {semantic_label}\")\n",
    "            \n",
    "            # process files for specific genre\n",
    "            for f in filenames:\n",
    "                if(f==str(\"jazz.00054.wav\")):\n",
    "                    # As librosa only read files <1Mb\n",
    "                    continue\n",
    "                else:\n",
    "                    # load audio file\n",
    "                    file_path = os.path.join(dirpath, f)\n",
    "                    signal,sr = librosa.load(file_path,sr=SAMPLE_RATE)\n",
    "                    for s in range(num_segments):\n",
    "                        start_sample = samples_ps * s\n",
    "                        finish_sample = start_sample + samples_ps\n",
    "\n",
    "                        mfcc = librosa.feature.mfcc(signal[start_sample:finish_sample],\n",
    "                                                    sr = sr,\n",
    "                                                    n_fft = n_fft,\n",
    "                                                    n_mfcc = n_mfcc,\n",
    "                                                    hop_length = hop_length)\n",
    "\n",
    "                        mfcc = mfcc.T\n",
    "\n",
    "                        # store mfcc if it has expected length \n",
    "                        if len(mfcc)==expected_vects_ps:\n",
    "                            data[\"mfcc\"].append(mfcc.tolist())\n",
    "                            data[\"labels\"].append(i-1)\n",
    "                            print(f\"{file_path}, segment: {s+1}\")\n",
    "\n",
    "    with open(json_path,\"w\") as f:\n",
    "        json.dump(data,f,indent=4)"
   ]
  },
  {
   "cell_type": "code",
   "execution_count": 18,
   "metadata": {},
   "outputs": [],
   "source": [
    "import IPython.display "
   ]
  },
  {
   "cell_type": "code",
   "execution_count": 21,
   "metadata": {},
   "outputs": [
    {
     "ename": "NameError",
     "evalue": "name 'math' is not defined",
     "output_type": "error",
     "traceback": [
      "\u001b[0;31m---------------------------------------------------------------------------\u001b[0m",
      "\u001b[0;31mNameError\u001b[0m                                 Traceback (most recent call last)",
      "Cell \u001b[0;32mIn [21], line 1\u001b[0m\n\u001b[0;32m----> 1\u001b[0m \u001b[43msave_mfcc\u001b[49m\u001b[43m(\u001b[49m\u001b[43mdataset_path\u001b[49m\u001b[43m,\u001b[49m\u001b[43m \u001b[49m\u001b[43mjson_path\u001b[49m\u001b[43m,\u001b[49m\u001b[43m \u001b[49m\u001b[43mnum_segments\u001b[49m\u001b[38;5;241;43m=\u001b[39;49m\u001b[38;5;241;43m10\u001b[39;49m\u001b[43m)\u001b[49m\n\u001b[1;32m      2\u001b[0m clear_output()\n",
      "Cell \u001b[0;32mIn [15], line 10\u001b[0m, in \u001b[0;36msave_mfcc\u001b[0;34m(dataset_path, json_path, n_mfcc, n_fft, hop_length, num_segments)\u001b[0m\n\u001b[1;32m      4\u001b[0m data \u001b[38;5;241m=\u001b[39m {\n\u001b[1;32m      5\u001b[0m     \u001b[38;5;124m\"\u001b[39m\u001b[38;5;124mmapping\u001b[39m\u001b[38;5;124m\"\u001b[39m: [],\n\u001b[1;32m      6\u001b[0m     \u001b[38;5;124m\"\u001b[39m\u001b[38;5;124mmfcc\u001b[39m\u001b[38;5;124m\"\u001b[39m: [],\n\u001b[1;32m      7\u001b[0m     \u001b[38;5;124m\"\u001b[39m\u001b[38;5;124mlabels\u001b[39m\u001b[38;5;124m\"\u001b[39m: [],\n\u001b[1;32m      8\u001b[0m }\n\u001b[1;32m      9\u001b[0m samples_ps \u001b[38;5;241m=\u001b[39m \u001b[38;5;28mint\u001b[39m(SAMPLES_PER_TRACK\u001b[38;5;241m/\u001b[39mnum_segments) \u001b[38;5;66;03m# ps = per segment\u001b[39;00m\n\u001b[0;32m---> 10\u001b[0m expected_vects_ps \u001b[38;5;241m=\u001b[39m \u001b[43mmath\u001b[49m\u001b[38;5;241m.\u001b[39mceil(samples_ps\u001b[38;5;241m/\u001b[39mhop_length)\n\u001b[1;32m     12\u001b[0m \u001b[38;5;66;03m# loop through all the genres\u001b[39;00m\n\u001b[1;32m     13\u001b[0m \u001b[38;5;28;01mfor\u001b[39;00m i, (dirpath, dirnames, filenames) \u001b[38;5;129;01min\u001b[39;00m \u001b[38;5;28menumerate\u001b[39m(os\u001b[38;5;241m.\u001b[39mwalk(dataset_path)):\n\u001b[1;32m     14\u001b[0m     \u001b[38;5;66;03m# ensuring not at root\u001b[39;00m\n",
      "\u001b[0;31mNameError\u001b[0m: name 'math' is not defined"
     ]
    }
   ],
   "source": [
    "save_mfcc(dataset_path, json_path, num_segments=10)\n",
    "clear_output()"
   ]
  },
  {
   "cell_type": "code",
   "execution_count": 22,
   "metadata": {},
   "outputs": [],
   "source": [
    "filepath = \"/Users/christophermorgan/Desktop/Data/genres_original/blues\""
   ]
  },
  {
   "cell_type": "code",
   "execution_count": 23,
   "metadata": {},
   "outputs": [
    {
     "ename": "NameError",
     "evalue": "name 'librosa' is not defined",
     "output_type": "error",
     "traceback": [
      "\u001b[0;31m---------------------------------------------------------------------------\u001b[0m",
      "\u001b[0;31mNameError\u001b[0m                                 Traceback (most recent call last)",
      "Cell \u001b[0;32mIn [23], line 2\u001b[0m\n\u001b[1;32m      1\u001b[0m \u001b[38;5;28;01mfor\u001b[39;00m i \u001b[38;5;129;01min\u001b[39;00m \u001b[38;5;28mrange\u001b[39m(\u001b[38;5;241m2\u001b[39m):\n\u001b[0;32m----> 2\u001b[0m     audio, sfreq \u001b[38;5;241m=\u001b[39m \u001b[43mlibrosa\u001b[49m\u001b[38;5;241m.\u001b[39mload(filepath\u001b[38;5;241m+\u001b[39m\u001b[38;5;28mstr\u001b[39m(i)\u001b[38;5;241m+\u001b[39m\u001b[38;5;124m\"\u001b[39m\u001b[38;5;124m.wav\u001b[39m\u001b[38;5;124m\"\u001b[39m)\n\u001b[1;32m      3\u001b[0m     time \u001b[38;5;241m=\u001b[39m np\u001b[38;5;241m.\u001b[39marange(\u001b[38;5;241m0\u001b[39m, \u001b[38;5;28mlen\u001b[39m(audio))\u001b[38;5;241m/\u001b[39msfreq\n\u001b[1;32m      4\u001b[0m     plt\u001b[38;5;241m.\u001b[39mplot(time,audio)\n",
      "\u001b[0;31mNameError\u001b[0m: name 'librosa' is not defined"
     ]
    }
   ],
   "source": [
    "for i in range(2):\n",
    "    audio, sfreq = librosa.load(filepath+str(i)+\".wav\")\n",
    "    time = np.arange(0, len(audio))/sfreq\n",
    "    plt.plot(time,audio)\n",
    "    plt.xlabel(\"Time\")\n",
    "    plt.ylabel(\"Sound Amplitude\")\n",
    "    plt.show()"
   ]
  },
  {
   "cell_type": "markdown",
   "metadata": {},
   "source": [
    "# Classifier\n",
    "This part uses the concepts of ANN with keras and sequential layers. I have also done splitting in the ratio 70:30\n",
    "\n",
    "The model is Sequential and architecture only has Flatten and the Dense layers available in keras for the basic ANN representation. As it is naive model we can expect it to be overfit. Info on the layers can be found [here](https://machinelearningknowledge.ai/different-types-of-keras-layers-explained-for-beginners/)"
   ]
  },
  {
   "cell_type": "code",
   "execution_count": 9,
   "metadata": {},
   "outputs": [],
   "source": [
    "import json\n",
    "import numpy as np"
   ]
  },
  {
   "cell_type": "code",
   "execution_count": 10,
   "metadata": {},
   "outputs": [],
   "source": [
    "# load data\n",
    "def load_data(dataset_path):\n",
    "    with open(dataset_path,\"r\") as f:\n",
    "        data = json.load(f)\n",
    "    \n",
    "    # Convert list to numpy arrays\n",
    "    inputs = np.array(data[\"mfcc\"])\n",
    "    targets = np.array(data[\"labels\"])    \n",
    "    \n",
    "    return inputs,targets"
   ]
  },
  {
   "cell_type": "code",
   "execution_count": 11,
   "metadata": {},
   "outputs": [],
   "source": [
    "inputs,targets = load_data(r\"./data.json\")"
   ]
  },
  {
   "cell_type": "code",
   "execution_count": 12,
   "metadata": {},
   "outputs": [
    {
     "ename": "NameError",
     "evalue": "name 'inputs' is not defined",
     "output_type": "error",
     "traceback": [
      "\u001b[0;31m---------------------------------------------------------------------------\u001b[0m",
      "\u001b[0;31mNameError\u001b[0m                                 Traceback (most recent call last)",
      "Cell \u001b[0;32mIn [12], line 4\u001b[0m\n\u001b[1;32m      1\u001b[0m \u001b[38;5;66;03m# splitting the data\u001b[39;00m\n\u001b[1;32m      2\u001b[0m \u001b[38;5;28;01mfrom\u001b[39;00m \u001b[38;5;21;01msklearn\u001b[39;00m\u001b[38;5;21;01m.\u001b[39;00m\u001b[38;5;21;01mmodel_selection\u001b[39;00m \u001b[38;5;28;01mimport\u001b[39;00m train_test_split\n\u001b[0;32m----> 4\u001b[0m input_train, input_test, target_train, target_test \u001b[38;5;241m=\u001b[39m train_test_split(\u001b[43minputs\u001b[49m, targets, test_size\u001b[38;5;241m=\u001b[39m\u001b[38;5;241m0.3\u001b[39m)\n\u001b[1;32m      5\u001b[0m \u001b[38;5;28mprint\u001b[39m(input_train\u001b[38;5;241m.\u001b[39mshape, target_train\u001b[38;5;241m.\u001b[39mshape)\n",
      "\u001b[0;31mNameError\u001b[0m: name 'inputs' is not defined"
     ]
    }
   ],
   "source": [
    "# splitting the data\n",
    "from sklearn.model_selection import train_test_split\n",
    "\n",
    "input_train, input_test, target_train, target_test = train_test_split(inputs, targets, test_size=0.3)\n",
    "print(input_train.shape, target_train.shape)"
   ]
  },
  {
   "cell_type": "code",
   "execution_count": null,
   "metadata": {},
   "outputs": [],
   "source": [
    "from tensorflow.keras import Sequential\n",
    "from tensorflow.keras.layers import *"
   ]
  },
  {
   "cell_type": "code",
   "execution_count": null,
   "metadata": {},
   "outputs": [],
   "source": [
    "model = Sequential()\n",
    "\n",
    "model.add(Flatten(input_shape=(inputs.shape[1],inputs.shape[2])))\n",
    "model.add(Dense(512, activation='relu'))\n",
    "model.add(Dense(256, activation='relu'))\n",
    "model.add(Dense(64, activation='relu'))\n",
    "model.add(Dense(10, activation='softmax'))\n",
    "model.summary()"
   ]
  },
  {
   "cell_type": "code",
   "execution_count": null,
   "metadata": {},
   "outputs": [],
   "source": [
    "from tensorflow.keras import optimizers\n",
    "adam = optimizers.Adam(lr=1e-4)"
   ]
  },
  {
   "cell_type": "code",
   "execution_count": null,
   "metadata": {},
   "outputs": [],
   "source": [
    "model.compile(optimizer=adam,\n",
    "             loss=\"sparse_categorical_crossentropy\",\n",
    "             metrics=[\"accuracy\"])"
   ]
  },
  {
   "cell_type": "code",
   "execution_count": null,
   "metadata": {},
   "outputs": [],
   "source": [
    "model.compile(optimizer=adam,\n",
    "             loss=\"sparse_categorical_crossentropy\",\n",
    "             metrics=[\"accuracy\"])\n",
    "\n",
    "hist = model.fit(input_train, target_train,\n",
    "                 validation_data = (input_test,target_test),\n",
    "                 epochs = 50,\n",
    "                 batch_size = 32)\n",
    "clear_output()"
   ]
  },
  {
   "cell_type": "code",
   "execution_count": null,
   "metadata": {},
   "outputs": [],
   "source": [
    "def plot_history(hist):\n",
    "    plt.figure(figsize=(20,15))\n",
    "    fig, axs = plt.subplots(2)\n",
    "    # accuracy subplot\n",
    "    axs[0].plot(hist.history[\"accuracy\"], label=\"train accuracy\")\n",
    "    axs[0].plot(hist.history[\"val_accuracy\"], label=\"test accuracy\")    \n",
    "    axs[0].set_ylabel(\"Accuracy\")\n",
    "    axs[0].legend(loc=\"lower right\")\n",
    "    axs[0].set_title(\"Accuracy eval\")\n",
    "    \n",
    "    # Error subplot\n",
    "    axs[1].plot(hist.history[\"loss\"], label=\"train error\")\n",
    "    axs[1].plot(hist.history[\"val_loss\"], label=\"test error\")    \n",
    "    axs[1].set_ylabel(\"Error\")\n",
    "    axs[1].set_xlabel(\"Epoch\")\n",
    "    axs[1].legend(loc=\"upper right\")\n",
    "    axs[1].set_title(\"Error eval\")\n",
    "    \n",
    "    plt.show()"
   ]
  },
  {
   "cell_type": "code",
   "execution_count": null,
   "metadata": {},
   "outputs": [],
   "source": [
    "plot_history(hist)"
   ]
  },
  {
   "cell_type": "code",
   "execution_count": 13,
   "metadata": {},
   "outputs": [
    {
     "ename": "NameError",
     "evalue": "name 'model' is not defined",
     "output_type": "error",
     "traceback": [
      "\u001b[0;31m---------------------------------------------------------------------------\u001b[0m",
      "\u001b[0;31mNameError\u001b[0m                                 Traceback (most recent call last)",
      "Cell \u001b[0;32mIn [13], line 1\u001b[0m\n\u001b[0;32m----> 1\u001b[0m test_error, test_accuracy \u001b[38;5;241m=\u001b[39m \u001b[43mmodel\u001b[49m\u001b[38;5;241m.\u001b[39mevaluate(input_test, target_test, verbose\u001b[38;5;241m=\u001b[39m\u001b[38;5;241m1\u001b[39m)\n\u001b[1;32m      2\u001b[0m \u001b[38;5;28mprint\u001b[39m(\u001b[38;5;124mf\u001b[39m\u001b[38;5;124m\"\u001b[39m\u001b[38;5;124mTest accuracy: \u001b[39m\u001b[38;5;132;01m{\u001b[39;00mtest_accuracy\u001b[38;5;132;01m}\u001b[39;00m\u001b[38;5;124m\"\u001b[39m)\n",
      "\u001b[0;31mNameError\u001b[0m: name 'model' is not defined"
     ]
    }
   ],
   "source": [
    "test_error, test_accuracy = model.evaluate(input_test, target_test, verbose=1)\n",
    "print(f\"Test accuracy: {test_accuracy}\")"
   ]
  },
  {
   "cell_type": "markdown",
   "metadata": {},
   "source": [
    "# Overfitting\n",
    "This part deals with the overfitting of the previous model. We can deal with it by majorly doing the following process.\n",
    "- Making architecture less complicated \n",
    "- Using augmented data\n",
    "- Early stopping of training\n",
    "- Adding dropout layers\n",
    "- Regularization / Standardization  \n",
    "\n",
    "I have added the dropout layers and kernel_regularizers as compared to previous naive model giving the dropout probability as 30%\n",
    "Kernel_regularizers is one of the 3 type of regularizer used to impose penalties. More info can be found [here](https://medium.com/@robertjohn_15390/regularization-in-tensorflow-using-keras-api-48aba746ae21)"
   ]
  },
  {
   "cell_type": "code",
   "execution_count": 21,
   "metadata": {},
   "outputs": [],
   "source": [
    "import tensorflow.keras as keras"
   ]
  },
  {
   "cell_type": "code",
   "execution_count": 22,
   "metadata": {},
   "outputs": [
    {
     "name": "stdout",
     "output_type": "stream",
     "text": [
      "Model: \"sequential_1\"\n",
      "_________________________________________________________________\n",
      "Layer (type)                 Output Shape              Param #   \n",
      "=================================================================\n",
      "flatten_1 (Flatten)          (None, 1690)              0         \n",
      "_________________________________________________________________\n",
      "dense_4 (Dense)              (None, 512)               865792    \n",
      "_________________________________________________________________\n",
      "dropout (Dropout)            (None, 512)               0         \n",
      "_________________________________________________________________\n",
      "dense_5 (Dense)              (None, 256)               131328    \n",
      "_________________________________________________________________\n",
      "dropout_1 (Dropout)          (None, 256)               0         \n",
      "_________________________________________________________________\n",
      "dense_6 (Dense)              (None, 64)                16448     \n",
      "_________________________________________________________________\n",
      "dropout_2 (Dropout)          (None, 64)                0         \n",
      "_________________________________________________________________\n",
      "dense_7 (Dense)              (None, 32)                2080      \n",
      "_________________________________________________________________\n",
      "dense_8 (Dense)              (None, 10)                330       \n",
      "=================================================================\n",
      "Total params: 1,015,978\n",
      "Trainable params: 1,015,978\n",
      "Non-trainable params: 0\n",
      "_________________________________________________________________\n"
     ]
    }
   ],
   "source": [
    "# Overfitting\n",
    "model = Sequential()\n",
    "\n",
    "model.add(Flatten(input_shape=(inputs.shape[1],inputs.shape[2])))\n",
    "model.add(Dense(512, activation='relu', kernel_regularizer = keras.regularizers.l2(0.001)))\n",
    "model.add(Dropout(0.3))\n",
    "model.add(Dense(256, activation='relu', kernel_regularizer = keras.regularizers.l2(0.003)))\n",
    "model.add(Dropout(0.3))\n",
    "model.add(Dense(64, activation='relu', kernel_regularizer = keras.regularizers.l2(0.01)))\n",
    "model.add(Dropout(0.3))\n",
    "model.add(Dense(32, activation='relu'))\n",
    "model.add(Dense(10, activation='softmax'))\n",
    "model.summary()"
   ]
  },
  {
   "cell_type": "code",
   "execution_count": 23,
   "metadata": {},
   "outputs": [],
   "source": [
    "model.compile(optimizer=adam,\n",
    "             loss=\"sparse_categorical_crossentropy\",\n",
    "             metrics=[\"accuracy\"])\n",
    "\n",
    "hist = model.fit(input_train, target_train,\n",
    "                 validation_data = (input_test,target_test),\n",
    "                 epochs = 50,\n",
    "                 batch_size = 32)\n",
    "\n",
    "clear_output()"
   ]
  },
  {
   "cell_type": "code",
   "execution_count": 24,
   "metadata": {},
   "outputs": [
    {
     "data": {
      "text/plain": [
       "<Figure size 1440x1080 with 0 Axes>"
      ]
     },
     "metadata": {},
     "output_type": "display_data"
    },
    {
     "data": {
      "image/png": "[encoded data removed]",
      "text/plain": [
       "<Figure size 432x288 with 2 Axes>"
      ]
     },
     "metadata": {
      "needs_background": "light"
     },
     "output_type": "display_data"
    }
   ],
   "source": [
    "plot_history(hist)"
   ]
  },
  {
   "cell_type": "code",
   "execution_count": 25,
   "metadata": {},
   "outputs": [
    {
     "name": "stdout",
     "output_type": "stream",
     "text": [
      "94/94 [==============================] - 0s 2ms/step - loss: 1.8015 - accuracy: 0.5451\n",
      "Test accuracy: 0.5450600981712341\n"
     ]
    }
   ],
   "source": [
    "test_error, test_accuracy = model.evaluate(input_test, target_test, verbose=1)\n",
    "print(f\"Test accuracy: {test_accuracy}\")"
   ]
  },
  {
   "cell_type": "markdown",
   "metadata": {},
   "source": [
    "We can see that the overfitting is greatly reduced but still we are not able to get a good accuracy. Now we will try doing it with Convolutional Neural Network (CNN)"
   ]
  },
  {
   "cell_type": "markdown",
   "metadata": {},
   "source": [
    "# CNN\n",
    "Using keras layers of Conv2D, MaxPool2D, BatchNormalization.\n",
    "\n",
    "CNN layers takes input primarily in 3D shape, so we again have to prepare the dataset in the form and for that, I have used np.newaxis function which adds a column/layer in the data"
   ]
  },
  {
   "cell_type": "code",
   "execution_count": 26,
   "metadata": {},
   "outputs": [],
   "source": [
    "def prepare_dataset(test_size, validation_size):\n",
    "    X,y = load_data(r\"./data.json\")\n",
    "    \n",
    "    X_train, X_test, y_train, y_test = train_test_split(X, y, test_size = test_size)\n",
    "    X_train, X_val, y_train, y_val = train_test_split(X_train, y_train, test_size = validation_size)\n",
    "    X_train = X_train[..., np.newaxis]\n",
    "    X_val = X_val[..., np.newaxis]\n",
    "    X_test = X_test[..., np.newaxis]\n",
    "\n",
    "    return X_train, X_val, X_test, y_train, y_val, y_test"
   ]
  },
  {
   "cell_type": "code",
   "execution_count": 27,
   "metadata": {},
   "outputs": [],
   "source": [
    "X_train, X_val, X_test, y_train, y_val, y_test = prepare_dataset(0.25, 0.2)"
   ]
  },
  {
   "cell_type": "code",
   "execution_count": 28,
   "metadata": {},
   "outputs": [
    {
     "name": "stdout",
     "output_type": "stream",
     "text": [
      "(130, 13, 1)\n"
     ]
    }
   ],
   "source": [
    "input_shape = (X_train.shape[1],X_train.shape[2],X_train.shape[3])\n",
    "print(input_shape)"
   ]
  },
  {
   "cell_type": "code",
   "execution_count": 35,
   "metadata": {},
   "outputs": [
    {
     "name": "stdout",
     "output_type": "stream",
     "text": [
      "Model: \"sequential_3\"\n",
      "_________________________________________________________________\n",
      "Layer (type)                 Output Shape              Param #   \n",
      "=================================================================\n",
      "conv2d_4 (Conv2D)            (None, 128, 11, 64)       640       \n",
      "_________________________________________________________________\n",
      "max_pooling2d_4 (MaxPooling2 (None, 64, 6, 64)         0         \n",
      "_________________________________________________________________\n",
      "batch_normalization_4 (Batch (None, 64, 6, 64)         256       \n",
      "_________________________________________________________________\n",
      "conv2d_5 (Conv2D)            (None, 62, 4, 32)         18464     \n",
      "_________________________________________________________________\n",
      "max_pooling2d_5 (MaxPooling2 (None, 31, 2, 32)         0         \n",
      "_________________________________________________________________\n",
      "batch_normalization_5 (Batch (None, 31, 2, 32)         128       \n",
      "_________________________________________________________________\n",
      "conv2d_6 (Conv2D)            (None, 30, 1, 32)         4128      \n",
      "_________________________________________________________________\n",
      "max_pooling2d_6 (MaxPooling2 (None, 15, 1, 32)         0         \n",
      "_________________________________________________________________\n",
      "batch_normalization_6 (Batch (None, 15, 1, 32)         128       \n",
      "_________________________________________________________________\n",
      "conv2d_7 (Conv2D)            (None, 15, 1, 16)         528       \n",
      "_________________________________________________________________\n",
      "max_pooling2d_7 (MaxPooling2 (None, 8, 1, 16)          0         \n",
      "_________________________________________________________________\n",
      "batch_normalization_7 (Batch (None, 8, 1, 16)          64        \n",
      "_________________________________________________________________\n",
      "flatten_3 (Flatten)          (None, 128)               0         \n",
      "_________________________________________________________________\n",
      "dense_11 (Dense)             (None, 64)                8256      \n",
      "_________________________________________________________________\n",
      "dropout_4 (Dropout)          (None, 64)                0         \n",
      "_________________________________________________________________\n",
      "dense_12 (Dense)             (None, 10)                650       \n",
      "=================================================================\n",
      "Total params: 33,242\n",
      "Trainable params: 32,954\n",
      "Non-trainable params: 288\n",
      "_________________________________________________________________\n"
     ]
    }
   ],
   "source": [
    "model = Sequential()\n",
    "model.add(Conv2D(64, (3, 3), activation = \"relu\", input_shape = input_shape))\n",
    "model.add(MaxPool2D((3, 3), strides=(2, 2), padding=\"same\"))\n",
    "model.add(BatchNormalization())\n",
    "\n",
    "model.add(Conv2D(32, (3, 3), activation = \"relu\"))\n",
    "model.add(MaxPool2D((3, 3), strides=(2, 2), padding=\"same\"))\n",
    "model.add(BatchNormalization())\n",
    "\n",
    "model.add(Conv2D(32, (2, 2), activation = \"relu\"))\n",
    "model.add(MaxPool2D((2, 2), strides=(2, 2), padding=\"same\"))\n",
    "model.add(BatchNormalization())\n",
    "\n",
    "model.add(Conv2D(16, (1, 1), activation = \"relu\"))\n",
    "model.add(MaxPool2D((1, 1), strides=(2, 2), padding=\"same\"))\n",
    "model.add(BatchNormalization())\n",
    "\n",
    "model.add(Flatten())\n",
    "model.add(Dense(64, activation=\"relu\"))\n",
    "model.add(Dropout(0.3))\n",
    "model.add(Dense(10, activation=\"softmax\"))\n",
    "\n",
    "model.summary()"
   ]
  },
  {
   "cell_type": "code",
   "execution_count": 36,
   "metadata": {},
   "outputs": [
    {
     "name": "stdout",
     "output_type": "stream",
     "text": [
      "Epoch 1/40\n",
      "188/188 [==============================] - 2s 7ms/step - loss: 2.2339 - accuracy: 0.2598 - val_loss: 1.6410 - val_accuracy: 0.4072\n",
      "Epoch 2/40\n",
      "188/188 [==============================] - 1s 6ms/step - loss: 1.5864 - accuracy: 0.4468 - val_loss: 1.3370 - val_accuracy: 0.5174\n",
      "Epoch 3/40\n",
      "188/188 [==============================] - 1s 6ms/step - loss: 1.4592 - accuracy: 0.4774 - val_loss: 1.2818 - val_accuracy: 0.5414\n",
      "Epoch 4/40\n",
      "188/188 [==============================] - 1s 7ms/step - loss: 1.3779 - accuracy: 0.5076 - val_loss: 1.1986 - val_accuracy: 0.5828\n",
      "Epoch 5/40\n",
      "188/188 [==============================] - 1s 6ms/step - loss: 1.2941 - accuracy: 0.5335 - val_loss: 1.1457 - val_accuracy: 0.5915\n",
      "Epoch 6/40\n",
      "188/188 [==============================] - 1s 6ms/step - loss: 1.2518 - accuracy: 0.5576 - val_loss: 1.1041 - val_accuracy: 0.6315\n",
      "Epoch 7/40\n",
      "188/188 [==============================] - 1s 6ms/step - loss: 1.1759 - accuracy: 0.5784 - val_loss: 1.1021 - val_accuracy: 0.6308\n",
      "Epoch 8/40\n",
      "188/188 [==============================] - 1s 6ms/step - loss: 1.1650 - accuracy: 0.5822 - val_loss: 1.0345 - val_accuracy: 0.6462\n",
      "Epoch 9/40\n",
      "188/188 [==============================] - 1s 6ms/step - loss: 1.1138 - accuracy: 0.6130 - val_loss: 1.0508 - val_accuracy: 0.6495\n",
      "Epoch 10/40\n",
      "188/188 [==============================] - 1s 6ms/step - loss: 1.0843 - accuracy: 0.6260 - val_loss: 1.0357 - val_accuracy: 0.6328\n",
      "Epoch 11/40\n",
      "188/188 [==============================] - 1s 6ms/step - loss: 1.0805 - accuracy: 0.6251 - val_loss: 0.9848 - val_accuracy: 0.6642\n",
      "Epoch 12/40\n",
      "188/188 [==============================] - 1s 6ms/step - loss: 1.0111 - accuracy: 0.6338 - val_loss: 0.9779 - val_accuracy: 0.6716\n",
      "Epoch 13/40\n",
      "188/188 [==============================] - 1s 6ms/step - loss: 1.0248 - accuracy: 0.6420 - val_loss: 0.9423 - val_accuracy: 0.6769\n",
      "Epoch 14/40\n",
      "188/188 [==============================] - 1s 7ms/step - loss: 0.9598 - accuracy: 0.6705 - val_loss: 0.9494 - val_accuracy: 0.6702\n",
      "Epoch 15/40\n",
      "188/188 [==============================] - 1s 6ms/step - loss: 0.9712 - accuracy: 0.6711 - val_loss: 0.9046 - val_accuracy: 0.6889\n",
      "Epoch 16/40\n",
      "188/188 [==============================] - 1s 6ms/step - loss: 0.9355 - accuracy: 0.6761 - val_loss: 0.9002 - val_accuracy: 0.6849\n",
      "Epoch 17/40\n",
      "188/188 [==============================] - 1s 6ms/step - loss: 0.9153 - accuracy: 0.6788 - val_loss: 0.8891 - val_accuracy: 0.6996\n",
      "Epoch 18/40\n",
      "188/188 [==============================] - 1s 7ms/step - loss: 0.9319 - accuracy: 0.6803 - val_loss: 0.8897 - val_accuracy: 0.7096\n",
      "Epoch 19/40\n",
      "188/188 [==============================] - 1s 6ms/step - loss: 0.8894 - accuracy: 0.6919 - val_loss: 0.9281 - val_accuracy: 0.6822\n",
      "Epoch 20/40\n",
      "188/188 [==============================] - 1s 6ms/step - loss: 0.8488 - accuracy: 0.7080 - val_loss: 0.8854 - val_accuracy: 0.6889\n",
      "Epoch 21/40\n",
      "188/188 [==============================] - 1s 6ms/step - loss: 0.8777 - accuracy: 0.6931 - val_loss: 0.8616 - val_accuracy: 0.7136\n",
      "Epoch 22/40\n",
      "188/188 [==============================] - 1s 6ms/step - loss: 0.8553 - accuracy: 0.7008 - val_loss: 0.8590 - val_accuracy: 0.7089\n",
      "Epoch 23/40\n",
      "188/188 [==============================] - 1s 7ms/step - loss: 0.8435 - accuracy: 0.7073 - val_loss: 0.8421 - val_accuracy: 0.7036\n",
      "Epoch 24/40\n",
      "188/188 [==============================] - 1s 6ms/step - loss: 0.8287 - accuracy: 0.7130 - val_loss: 0.8439 - val_accuracy: 0.7150\n",
      "Epoch 25/40\n",
      "188/188 [==============================] - 1s 6ms/step - loss: 0.8048 - accuracy: 0.7254 - val_loss: 0.8358 - val_accuracy: 0.7196\n",
      "Epoch 26/40\n",
      "188/188 [==============================] - 1s 6ms/step - loss: 0.7865 - accuracy: 0.7253 - val_loss: 0.8858 - val_accuracy: 0.6949\n",
      "Epoch 27/40\n",
      "188/188 [==============================] - 1s 6ms/step - loss: 0.7632 - accuracy: 0.7393 - val_loss: 0.8511 - val_accuracy: 0.7136\n",
      "Epoch 28/40\n",
      "188/188 [==============================] - 1s 6ms/step - loss: 0.7663 - accuracy: 0.7371 - val_loss: 0.8525 - val_accuracy: 0.7156\n",
      "Epoch 29/40\n",
      "188/188 [==============================] - 1s 6ms/step - loss: 0.7394 - accuracy: 0.7423 - val_loss: 0.8403 - val_accuracy: 0.7183\n",
      "Epoch 30/40\n",
      "188/188 [==============================] - 1s 6ms/step - loss: 0.7299 - accuracy: 0.7454 - val_loss: 0.8268 - val_accuracy: 0.7143\n",
      "Epoch 31/40\n",
      "188/188 [==============================] - 1s 6ms/step - loss: 0.7298 - accuracy: 0.7409 - val_loss: 0.8180 - val_accuracy: 0.7150\n",
      "Epoch 32/40\n",
      "188/188 [==============================] - 1s 6ms/step - loss: 0.7182 - accuracy: 0.7498 - val_loss: 0.8135 - val_accuracy: 0.7143\n",
      "Epoch 33/40\n",
      "188/188 [==============================] - 1s 7ms/step - loss: 0.6915 - accuracy: 0.7582 - val_loss: 0.7875 - val_accuracy: 0.7443\n",
      "Epoch 34/40\n",
      "188/188 [==============================] - 1s 6ms/step - loss: 0.7011 - accuracy: 0.7603 - val_loss: 0.8380 - val_accuracy: 0.7210\n",
      "Epoch 35/40\n",
      "188/188 [==============================] - 1s 6ms/step - loss: 0.6902 - accuracy: 0.7619 - val_loss: 0.8247 - val_accuracy: 0.7190\n",
      "Epoch 36/40\n",
      "188/188 [==============================] - 1s 6ms/step - loss: 0.6742 - accuracy: 0.7641 - val_loss: 0.8373 - val_accuracy: 0.7176\n",
      "Epoch 37/40\n",
      "188/188 [==============================] - 1s 6ms/step - loss: 0.6751 - accuracy: 0.7585 - val_loss: 0.8139 - val_accuracy: 0.7270\n",
      "Epoch 38/40\n",
      "188/188 [==============================] - 1s 6ms/step - loss: 0.6513 - accuracy: 0.7711 - val_loss: 0.7727 - val_accuracy: 0.7390\n",
      "Epoch 39/40\n",
      "188/188 [==============================] - 1s 6ms/step - loss: 0.6512 - accuracy: 0.7815 - val_loss: 0.8031 - val_accuracy: 0.7336\n",
      "Epoch 40/40\n",
      "188/188 [==============================] - 1s 6ms/step - loss: 0.6546 - accuracy: 0.7769 - val_loss: 0.7929 - val_accuracy: 0.7290\n"
     ]
    }
   ],
   "source": [
    "model.compile(optimizer=adam,\n",
    "              loss=\"sparse_categorical_crossentropy\",\n",
    "              metrics=[\"accuracy\"])\n",
    "\n",
    "hist = model.fit(X_train, y_train,\n",
    "                 validation_data = (X_val, y_val),\n",
    "                 epochs = 40,\n",
    "                 batch_size = 32)"
   ]
  },
  {
   "cell_type": "code",
   "execution_count": 37,
   "metadata": {},
   "outputs": [
    {
     "data": {
      "text/plain": [
       "<Figure size 1440x1080 with 0 Axes>"
      ]
     },
     "metadata": {},
     "output_type": "display_data"
    },
    {
     "data": {
      "image/png": "[encoded data removed]",
      "text/plain": [
       "<Figure size 432x288 with 2 Axes>"
      ]
     },
     "metadata": {
      "needs_background": "light"
     },
     "output_type": "display_data"
    }
   ],
   "source": [
    "plot_history(hist)"
   ]
  },
  {
   "cell_type": "code",
   "execution_count": 38,
   "metadata": {},
   "outputs": [
    {
     "name": "stdout",
     "output_type": "stream",
     "text": [
      "79/79 [==============================] - 0s 3ms/step - loss: 0.7701 - accuracy: 0.7333\n",
      "Test accuracy: 0.7332799434661865\n"
     ]
    }
   ],
   "source": [
    "test_error, test_accuracy = model.evaluate(X_test, y_test, verbose=1)\n",
    "print(f\"Test accuracy: {test_accuracy}\")"
   ]
  },
  {
   "cell_type": "code",
   "execution_count": 39,
   "metadata": {},
   "outputs": [],
   "source": [
    "def predict(model, X, y):\n",
    "    X = X[np.newaxis,...]\n",
    "    prediction = model.predict(X)\n",
    "    predicted_index = np.argmax(prediction, axis=1)\n",
    "    print(f\"Expected index: {y}, Predicted index: {predicted_index}\")"
   ]
  },
  {
   "cell_type": "code",
   "execution_count": 34,
   "metadata": {},
   "outputs": [
    {
     "name": "stdout",
     "output_type": "stream",
     "text": [
      "Expected index: 8, Predicted index: [8]\n"
     ]
    }
   ],
   "source": [
    "predict(model, X_test[10], y_test[10])"
   ]
  },
  {
   "cell_type": "markdown",
   "metadata": {},
   "source": [
    "As we can see the accuracy has improved by Significant amount but still the accuracy is not enough, in the future of this notebook I am planning to implement RNN model in this and finally use the ensembling to get a push in accuracy. However any other suggestions are always invited!"
   ]
  },
  {
   "cell_type": "code",
   "execution_count": null,
   "metadata": {},
   "outputs": [],
   "source": []
  }
 ],
 "metadata": {
  "kernelspec": {
   "display_name": "Python 3 (ipykernel)",
   "language": "python",
   "name": "python3"
  },
  "language_info": {
   "codemirror_mode": {
    "name": "ipython",
    "version": 3
   },
   "file_extension": ".py",
   "mimetype": "text/x-python",
   "name": "python",
   "nbconvert_exporter": "python",
   "pygments_lexer": "ipython3",
   "version": "3.9.6"
  }
 },
 "nbformat": 4,
 "nbformat_minor": 4
}
